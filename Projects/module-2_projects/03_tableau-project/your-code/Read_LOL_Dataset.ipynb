{
 "cells": [
  {
   "cell_type": "code",
   "execution_count": 1,
   "metadata": {},
   "outputs": [],
   "source": [
    "import numpy as np\n",
    "import pandas as pd\n",
    "import pickle\n",
    "import matplotlib.pyplot as plt\n",
    "import numpy as np\n",
    "import json\n",
    "import re \n",
    "from pandas.io.json import json_normalize"
   ]
  },
  {
   "cell_type": "code",
   "execution_count": 2,
   "metadata": {},
   "outputs": [],
   "source": [
    "match_df = pd.read_pickle('~/Desktop/lol_data/match_data.pickle')\n",
    "#winner_df =  pd.read_pickle('~/Desktop/lol_data/match_winner_data.pickle')\n",
    "#loser_df = pd.read_pickle('~/Desktop/lol_data/match_loser_data.pickle')"
   ]
  },
  {
   "cell_type": "markdown",
   "metadata": {},
   "source": [
    "# Filter Ranked Games\n",
    "- Only Ranked games (gameMode = Classic)\n",
    "- remove columns not needed\n",
    "- get information on the participants into the df"
   ]
  },
  {
   "cell_type": "code",
   "execution_count": 3,
   "metadata": {
    "scrolled": true
   },
   "outputs": [],
   "source": [
    "match_df = match_df[match_df[\"gameMode\"]==\"CLASSIC\"]"
   ]
  },
  {
   "cell_type": "code",
   "execution_count": 4,
   "metadata": {},
   "outputs": [],
   "source": [
    "match_df = (match_df.drop(columns=[\"status.message\",\"status.status_code\",\n",
    "                                   \"participantIdentities\",\"gameMode\", \n",
    "                                   \"gameType\",\"platformId\", \"seasonId\", \n",
    "                                   \"mapId\",\"queueId\"]))"
   ]
  },
  {
   "cell_type": "code",
   "execution_count": 10,
   "metadata": {},
   "outputs": [],
   "source": [
    "sample = match_df.iloc[:10000][:]"
   ]
  },
  {
   "cell_type": "code",
   "execution_count": 11,
   "metadata": {},
   "outputs": [],
   "source": [
    "sample.reset_index(drop=True, inplace=True)"
   ]
  },
  {
   "cell_type": "code",
   "execution_count": 12,
   "metadata": {},
   "outputs": [],
   "source": [
    "sample.to_pickle('~/Desktop/lol_data/match_01.pickle')"
   ]
  },
  {
   "cell_type": "code",
   "execution_count": 35,
   "metadata": {},
   "outputs": [],
   "source": [
    "sample = pd.read_pickle('~/Desktop/lol_data/match_01.pickle')"
   ]
  },
  {
   "cell_type": "code",
   "execution_count": 36,
   "metadata": {},
   "outputs": [],
   "source": [
    "def parse_participant(participant_dict):\n",
    "    keys_to_keep = [\"participantId\",'teamId','championId','spell1Id','spell2Id']\n",
    "    stats_keys = (['win',\"item0\", \"item1\",\"item2\",\"item3\",\"item4\",\"item5\",\"item6\", \"kills\", \"deaths\", \"assists\",\n",
    "                  \"doubleKills\", \"tripleKills\", \"quadraKills\", \"pentaKills\", \"goldEarned\",\"role\", \"lane\"])\n",
    "    e = {}\n",
    "    for key, value in participant_dict.items():\n",
    "        if key in keys_to_keep:\n",
    "            e[key] = value\n",
    "        elif type(value) == dict:\n",
    "            for key2, value2 in value.items():\n",
    "                if key2 in stats_keys:\n",
    "                    e[key2] = value2\n",
    "                    \n",
    "    return e"
   ]
  },
  {
   "cell_type": "code",
   "execution_count": 37,
   "metadata": {},
   "outputs": [
    {
     "name": "stderr",
     "output_type": "stream",
     "text": [
      "/Users/andreasglassl/opt/miniconda3/envs/backpack_banana/lib/python3.7/site-packages/ipykernel_launcher.py:4: SettingWithCopyWarning: \n",
      "A value is trying to be set on a copy of a slice from a DataFrame\n",
      "\n",
      "See the caveats in the documentation: https://pandas.pydata.org/pandas-docs/stable/user_guide/indexing.html#returning-a-view-versus-a-copy\n",
      "  after removing the cwd from sys.path.\n"
     ]
    }
   ],
   "source": [
    "for i in range(len(sample)):\n",
    "    d = sample.loc[i,\"participants\"]\n",
    "    e = [parse_participant(part) for part in d]\n",
    "    sample[\"participants\"][i] = e"
   ]
  },
  {
   "cell_type": "code",
   "execution_count": 38,
   "metadata": {},
   "outputs": [],
   "source": [
    "sample.to_pickle('~/Desktop/lol_data/match_01.pickle')"
   ]
  },
  {
   "cell_type": "code",
   "execution_count": 48,
   "metadata": {},
   "outputs": [],
   "source": [
    "participants_df = (pd\n",
    "                   .json_normalize(sample[\"participants\"].iloc[0][:])\n",
    "                   .assign(gameDuration = sample.iloc[0][1]\n",
    "                           ,gameId=sample.iloc[0][2]\n",
    "                           ,gameVersion=sample.iloc[0][3]))"
   ]
  },
  {
   "cell_type": "code",
   "execution_count": 54,
   "metadata": {},
   "outputs": [],
   "source": [
    "for i in range(8000,10000):\n",
    "    participants_df = (participants_df\n",
    "                       .append(pd.json_normalize(sample[\"participants\"].iloc[i][:])\n",
    "                                                                         .assign(gameDuration = sample.iloc[i][1]\n",
    "                                                                         ,gameId=sample.iloc[i][2]\n",
    "                                                                         ,gameVersion=sample.iloc[i][3]\n",
    "                                                                         ,ignore_index=True)))"
   ]
  },
  {
   "cell_type": "code",
   "execution_count": 57,
   "metadata": {},
   "outputs": [],
   "source": [
    "participants_df.reset_index(drop=True, inplace=True)"
   ]
  },
  {
   "cell_type": "code",
   "execution_count": 58,
   "metadata": {},
   "outputs": [],
   "source": [
    "participants_df.to_csv('~/Desktop/lol_data/match_01.csv', index=False)"
   ]
  },
  {
   "cell_type": "code",
   "execution_count": 59,
   "metadata": {},
   "outputs": [],
   "source": [
    "winner_df =  pd.read_pickle('~/Desktop/lol_data/match_winner_data.pickle')\n",
    "loser_df = pd.read_pickle('~/Desktop/lol_data/match_loser_data.pickle')"
   ]
  },
  {
   "cell_type": "code",
   "execution_count": 61,
   "metadata": {},
   "outputs": [],
   "source": [
    "winner_df.to_csv('~/Desktop/lol_data/match_winner_data.csv')\n",
    "loser_df.to_csv('~/Desktop/lol_data/match_loser_data.csv')"
   ]
  },
  {
   "cell_type": "code",
   "execution_count": null,
   "metadata": {},
   "outputs": [],
   "source": []
  }
 ],
 "metadata": {
  "kernelspec": {
   "display_name": "Python 3",
   "language": "python",
   "name": "python3"
  },
  "language_info": {
   "codemirror_mode": {
    "name": "ipython",
    "version": 3
   },
   "file_extension": ".py",
   "mimetype": "text/x-python",
   "name": "python",
   "nbconvert_exporter": "python",
   "pygments_lexer": "ipython3",
   "version": "3.7.6"
  }
 },
 "nbformat": 4,
 "nbformat_minor": 4
}
