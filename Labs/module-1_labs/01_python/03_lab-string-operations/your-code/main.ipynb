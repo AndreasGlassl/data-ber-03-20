{
 "cells": [
  {
   "cell_type": "markdown",
   "metadata": {},
   "source": [
    "# Before your start:\n",
    "- Read the README.md file\n",
    "- Comment as much as you can and use the resources in the README.md file\n",
    "- Happy learning!"
   ]
  },
  {
   "cell_type": "code",
   "execution_count": 49,
   "metadata": {},
   "outputs": [],
   "source": [
    "import re"
   ]
  },
  {
   "cell_type": "markdown",
   "metadata": {},
   "source": [
    "# Challenge 1 - Combining Strings\n",
    "\n",
    "Combining strings is an important skill to acquire. There are multiple ways of combining strings in Python, as well as combining strings with variables. We will explore this in the first challenge. In the cell below, combine the strings in the list and add spaces between the strings (do not add a space after the last string). Insert a period after the last string."
   ]
  },
  {
   "cell_type": "code",
   "execution_count": 44,
   "metadata": {},
   "outputs": [
    {
     "name": "stdout",
     "output_type": "stream",
     "text": [
      "Durante un tiempo no estuvo segura de si su marido era su marido.\n"
     ]
    }
   ],
   "source": [
    "str_list = ['Durante', 'un', 'tiempo', 'no', 'estuvo', 'segura', 'de', 'si', 'su', 'marido', 'era', 'su', 'marido']\n",
    "# Your code here:\n",
    "your_string = \"\"\n",
    "for  i in range(len(str_list)):\n",
    "    # Go through all the strings in the List\n",
    "    if i < len(str_list)-1:\n",
    "        # If it is not the last string, just add a whitespace\n",
    "        your_string += str_list[i] + \" \"\n",
    "    else:\n",
    "        # for the last string, finish it with a period.\n",
    "        your_string+= str_list[i] + \".\"\n",
    "\n",
    "        \n",
    "#show the string we have created to check if it is fine.\n",
    "\n",
    "\n",
    "str_list = ' '.join(str_list) + '.'\n",
    "print(str_list)"
   ]
  },
  {
   "cell_type": "markdown",
   "metadata": {},
   "source": [
    "In the cell below, use the list of strings to create a grocery list. Start the list with the string `Grocery list: ` and include a comma and a space between each item except for the last one. Include a period at the end. Only include foods in the list that start with the letter 'b' and ensure all foods are lower case."
   ]
  },
  {
   "cell_type": "code",
   "execution_count": 71,
   "metadata": {},
   "outputs": [
    {
     "data": {
      "text/plain": [
       "['Grocery List: ', 'bananas', 'bread', 'brownie', 'broccoli']"
      ]
     },
     "execution_count": 71,
     "metadata": {},
     "output_type": "execute_result"
    }
   ],
   "source": [
    "\n",
    "food_list = ['Bananas', 'Chocolate', 'bread', 'diapers', 'Ice Cream', 'Brownie Mix', 'broccoli']\n",
    "# Function to convert\n",
    "\n",
    "grocery_list = [\"Grocery List: \"]\n",
    "find_b = \"[b]\\w+\"\n",
    "\n",
    "for items in food_list:\n",
    "    items = items.lower()\n",
    "    if len(re.findall(find_b,items)) != 0:\n",
    "        grocery_list.append(re.findall(find_b, items)[0])\n",
    "    \n",
    "\n",
    "    \n",
    "grocery_list"
   ]
  },
  {
   "cell_type": "markdown",
   "metadata": {},
   "source": [
    "In the cell below, write a function that computes the area of a circle using its radius. Compute the area of the circle and insert the radius and the area between the two strings. Make sure to include spaces between the variable and the strings. \n",
    "\n",
    "Note: You can use the techniques we have learned so far or use f-strings. F-strings allow us to embed code inside strings. You can read more about f-strings [here](https://www.python.org/dev/peps/pep-0498/)."
   ]
  },
  {
   "cell_type": "code",
   "execution_count": 82,
   "metadata": {},
   "outputs": [
    {
     "data": {
      "text/plain": [
       "'The area of the circle with radius: 4.5 is: 63.61725123519331.'"
      ]
     },
     "execution_count": 82,
     "metadata": {},
     "output_type": "execute_result"
    }
   ],
   "source": [
    "import math\n",
    "\n",
    "string1 = \"The area of the circle with radius:\"\n",
    "string2  = \"is:\"\n",
    "radius = 4.5\n",
    "\n",
    "def area(x, pi = math.pi):\n",
    "    # This function takes a radius and returns the area of a circle. We also pass a default value for pi.\n",
    "    # Input: Float (and default value for pi)\n",
    "    # Output: Float\n",
    "    circle_area = pi*x**2\n",
    "    # Sample input: 5.0\n",
    "    # Sample Output: 78.53981633\n",
    "    return circle_area\n",
    "    # Your code here:\n",
    "    \n",
    "    \n",
    "# Your output string here:\n",
    "f'{string1} {radius} {string2} {area(radius)}.'"
   ]
  },
  {
   "cell_type": "markdown",
   "metadata": {},
   "source": [
    "# Challenge 2 - Splitting Strings\n",
    "\n",
    "We have first looked at combining strings into one long string. There are times where we need to do the opposite and split the string into smaller components for further analysis. \n",
    "\n",
    "In the cell below, split the string into a list of strings using the space delimiter. Count the frequency of each word in the string in a dictionary. Strip the periods, line breaks and commas from the text. Make sure to remove empty strings from your dictionary."
   ]
  },
  {
   "cell_type": "code",
   "execution_count": 100,
   "metadata": {
    "scrolled": false
   },
   "outputs": [],
   "source": [
    "poem = \"\"\"Some say the world will end in fire,\n",
    "Some say in ice.\n",
    "From what I’ve tasted of desire\n",
    "I hold with those who favor fire.\n",
    "But if it had to perish twice,\n",
    "I think I know enough of hate\n",
    "To say that for destruction ice\n",
    "Is also great\n",
    "And would suffice.\"\"\"\n",
    "\n",
    "# Your code here:\n",
    "poem = poem.lower().replace('\\n', ' ').replace(',', '').replace('.', '')\n",
    "poem_split = poem.split(' ')\n",
    "\n",
    "list_of_words = set(poem_split)\n",
    "\n",
    "count_words = {}\n",
    "\n",
    "for words in list_of_words:\n",
    "    count_words[words] = poem_split.count(words)\n",
    "    "
   ]
  },
  {
   "cell_type": "markdown",
   "metadata": {},
   "source": [
    "In the cell below, find all the words that appear in the text and do not appear in the blacklist. You must parse the string but can choose any data structure you wish for the words that do not appear in the blacklist. Remove all non letter characters and convert all words to lower case."
   ]
  },
  {
   "cell_type": "code",
   "execution_count": 105,
   "metadata": {
    "scrolled": true
   },
   "outputs": [
    {
     "data": {
      "text/plain": [
       "['I',\n",
       " 'was',\n",
       " 'angry',\n",
       " 'with',\n",
       " 'my',\n",
       " 'friend',\n",
       " 'I',\n",
       " 'told',\n",
       " 'my',\n",
       " 'wrath',\n",
       " 'my',\n",
       " 'wrath',\n",
       " 'did',\n",
       " 'endI',\n",
       " 'was',\n",
       " 'angry',\n",
       " 'with',\n",
       " 'my',\n",
       " 'foe',\n",
       " 'I',\n",
       " 'told',\n",
       " 'not',\n",
       " 'my',\n",
       " 'wrath',\n",
       " 'did',\n",
       " 'grow',\n",
       " 'And',\n",
       " 'I',\n",
       " 'waterd',\n",
       " 'in',\n",
       " 'fearsNight',\n",
       " '&',\n",
       " 'morning',\n",
       " 'with',\n",
       " 'my',\n",
       " 'tears',\n",
       " 'And',\n",
       " 'I',\n",
       " 'sunned',\n",
       " 'with',\n",
       " 'smilesAnd',\n",
       " 'with',\n",
       " 'soft',\n",
       " 'deceitful',\n",
       " 'wiles',\n",
       " 'And',\n",
       " 'grew',\n",
       " 'both',\n",
       " 'day',\n",
       " 'night',\n",
       " 'Till',\n",
       " 'bore',\n",
       " 'apple',\n",
       " 'bright',\n",
       " 'And',\n",
       " 'my',\n",
       " 'foe',\n",
       " 'beheld',\n",
       " 'shineAnd',\n",
       " 'he',\n",
       " 'knew',\n",
       " 'that',\n",
       " 'was',\n",
       " 'mine',\n",
       " 'And',\n",
       " 'into',\n",
       " 'my',\n",
       " 'garden',\n",
       " 'stole',\n",
       " 'When',\n",
       " 'night',\n",
       " 'had',\n",
       " 'veild',\n",
       " 'pole',\n",
       " 'In',\n",
       " 'morning',\n",
       " 'glad',\n",
       " 'I',\n",
       " 'see',\n",
       " 'My',\n",
       " 'foe',\n",
       " 'outstretched',\n",
       " 'beneath',\n",
       " 'tree']"
      ]
     },
     "execution_count": 105,
     "metadata": {},
     "output_type": "execute_result"
    }
   ],
   "source": [
    "blacklist = ['and', 'as', 'an', 'a', 'the', 'in', 'it']\n",
    "\n",
    "poem = \"\"\"I was angry with my friend; \n",
    "I told my wrath, my wrath did end.\n",
    "I was angry with my foe: \n",
    "I told it not, my wrath did grow. \n",
    "\n",
    "And I waterd it in fears,\n",
    "Night & morning with my tears: \n",
    "And I sunned it with smiles,\n",
    "And with soft deceitful wiles. \n",
    "\n",
    "And it grew both day and night. \n",
    "Till it bore an apple bright. \n",
    "And my foe beheld it shine,\n",
    "And he knew that it was mine. \n",
    "\n",
    "And into my garden stole, \n",
    "When the night had veild the pole; \n",
    "In the morning glad I see; \n",
    "My foe outstretched beneath the tree.\"\"\"\n",
    "\n",
    "# Your code here:\n",
    "poem = poem.replace(\";\",\"\").replace(\",\",\"\").replace(\"\\n\", \"\").replace(\".\", \"\").replace(\":\",\"\")\n",
    "poem = poem.split(\" \")\n",
    "\n",
    "for words in poem:\n",
    "    if words in blacklist:\n",
    "        poem.remove(words)\n",
    "\n"
   ]
  },
  {
   "cell_type": "markdown",
   "metadata": {},
   "source": [
    "# Challenge 3 - Regular Expressions\n",
    "\n",
    "Sometimes, we would like to perform more complex manipulations of our string. This is where regular expressions come in handy. In the cell below, return all characters that are upper case from the string specified below."
   ]
  },
  {
   "cell_type": "code",
   "execution_count": 98,
   "metadata": {},
   "outputs": [
    {
     "data": {
      "text/plain": [
       "'TP'"
      ]
     },
     "execution_count": 98,
     "metadata": {},
     "output_type": "execute_result"
    }
   ],
   "source": [
    "poem = \"\"\"The apparition of these faces in the crowd;\n",
    "Petals on a wet, black bough.\"\"\"\n",
    "\n",
    "# Your code here:\n",
    "upper_string = \"\"\n",
    "capital_letters = (re.findall(\"[A-Z]\",poem))\n",
    "for strings in capital_letters:\n",
    "    upper_string += str(strings)\n",
    "upper_string"
   ]
  },
  {
   "cell_type": "markdown",
   "metadata": {},
   "source": [
    "In the cell below, filter the list provided and return all elements of the list containing a number. To filter the list, use the `re.search` function. Check if the function does not return `None`. You can read more about the `re.search` function [here](https://docs.python.org/3/library/re.html)."
   ]
  },
  {
   "cell_type": "code",
   "execution_count": 101,
   "metadata": {},
   "outputs": [
    {
     "data": {
      "text/plain": [
       "['123abc', 'abc123', 'JohnSmith1', 'ABBY4']"
      ]
     },
     "execution_count": 101,
     "metadata": {},
     "output_type": "execute_result"
    }
   ],
   "source": [
    "data = ['123abc', 'abc123', 'JohnSmith1', 'ABBY4', 'JANE']\n",
    "\n",
    "for items in data:\n",
    "    if re.search(\"[0-9]\",items):\n",
    "        continue\n",
    "    else:\n",
    "        data.remove(items)\n",
    "\n",
    "data"
   ]
  },
  {
   "cell_type": "markdown",
   "metadata": {},
   "source": [
    "# Bonus Challenge - Regular Expressions II\n",
    "\n",
    "In the cell below, filter the list provided to keep only strings containing at least one digit and at least one lower case letter. As in the previous question, use the `re.search` function and check that the result is not `None`.\n",
    "\n",
    "To read more about regular expressions, check out [this link](https://developers.google.com/edu/python/regular-expressions)."
   ]
  },
  {
   "cell_type": "code",
   "execution_count": 10,
   "metadata": {},
   "outputs": [],
   "source": [
    "data = ['123abc', 'abc123', 'JohnSmith1', 'ABBY4', 'JANE']\n",
    "# Your code here:\n"
   ]
  },
  {
   "cell_type": "code",
   "execution_count": 111,
   "metadata": {},
   "outputs": [
    {
     "data": {
      "text/plain": [
       "['123abc', 'abc123', 'JohnSmith1']"
      ]
     },
     "execution_count": 111,
     "metadata": {},
     "output_type": "execute_result"
    }
   ],
   "source": [
    "data = ['123abc', 'abc123', 'JohnSmith1', 'ABBY4', 'JANE']\n",
    "\n",
    "for items in data:\n",
    "    if re.search(\"[0-9]\",items):\n",
    "        continue\n",
    "    else:\n",
    "        data.remove(items)\n",
    "        \n",
    "for items in data:\n",
    "    if re.search(\"[a-z]\",items):\n",
    "        continue\n",
    "    else:\n",
    "        data.remove(items)\n",
    "        \n",
    "data"
   ]
  },
  {
   "cell_type": "code",
   "execution_count": null,
   "metadata": {},
   "outputs": [],
   "source": []
  }
 ],
 "metadata": {
  "kernelspec": {
   "display_name": "Python 3",
   "language": "python",
   "name": "python3"
  },
  "language_info": {
   "codemirror_mode": {
    "name": "ipython",
    "version": 3
   },
   "file_extension": ".py",
   "mimetype": "text/x-python",
   "name": "python",
   "nbconvert_exporter": "python",
   "pygments_lexer": "ipython3",
   "version": "3.7.6"
  }
 },
 "nbformat": 4,
 "nbformat_minor": 4
}
